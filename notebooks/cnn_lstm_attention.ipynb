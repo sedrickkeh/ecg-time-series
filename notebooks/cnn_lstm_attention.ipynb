{
  "cells": [
    {
      "cell_type": "code",
      "execution_count": null,
      "metadata": {
        "_cell_guid": "b1076dfc-b9ad-4769-8c92-a6c4dae69d19",
        "_uuid": "8f2839f25d086af736a60e9eeb907d3b93b6e0e5",
        "execution": {
          "iopub.execute_input": "2021-02-26T10:23:57.545302Z",
          "iopub.status.busy": "2021-02-26T10:23:57.544595Z",
          "iopub.status.idle": "2021-02-26T10:23:59.763955Z",
          "shell.execute_reply": "2021-02-26T10:23:59.762767Z"
        },
        "papermill": {
          "duration": 2.255237,
          "end_time": "2021-02-26T10:23:59.764182",
          "exception": false,
          "start_time": "2021-02-26T10:23:57.508945",
          "status": "completed"
        },
        "tags": [],
        "id": "RFUE0MIeGUri"
      },
      "outputs": [],
      "source": [
        "import os\n",
        "import itertools\n",
        "import time\n",
        "import random\n",
        "import warnings\n",
        "\n",
        "import numpy as np\n",
        "import pandas as pd\n",
        "import matplotlib.pyplot as plt\n",
        "import matplotlib.colors as mcolors\n",
        "import seaborn as sns\n",
        "\n",
        "import torch\n",
        "import torch.nn as nn\n",
        "import torch.nn.functional as F\n",
        "from torch.utils.data import Dataset, DataLoader\n",
        "from torch.optim import AdamW\n",
        "from torch.optim.lr_scheduler import (CosineAnnealingLR,\n",
        "                                      CosineAnnealingWarmRestarts,\n",
        "                                      StepLR,\n",
        "                                      ExponentialLR)\n",
        "\n",
        "from sklearn.model_selection import train_test_split\n",
        "from sklearn.metrics import precision_recall_curve\n",
        "from sklearn.metrics import classification_report, confusion_matrix\n",
        "from sklearn.metrics import accuracy_score, auc, f1_score, precision_score, recall_score\n",
        "\n",
        "warnings.filterwarnings(\"ignore\")"
      ]
    },
    {
      "cell_type": "code",
      "execution_count": null,
      "metadata": {
        "execution": {
          "iopub.execute_input": "2021-02-26T10:24:00.173695Z",
          "iopub.status.busy": "2021-02-26T10:24:00.172927Z",
          "iopub.status.idle": "2021-02-26T10:24:00.179307Z",
          "shell.execute_reply": "2021-02-26T10:24:00.178876Z"
        },
        "papermill": {
          "duration": 0.386332,
          "end_time": "2021-02-26T10:24:00.179470",
          "exception": false,
          "start_time": "2021-02-26T10:23:59.793138",
          "status": "completed"
        },
        "tags": [],
        "id": "q4aQo50AGUrl"
      },
      "outputs": [],
      "source": [
        "main_path = ''\n",
        "class Config:\n",
        "    csv_path = ''\n",
        "    seed = 2022\n",
        "    device = 'cuda:0' if torch.cuda.is_available() else 'cpu'\n",
        "    attn_state_path = main_path + 'attn.pth'\n",
        "    train_original_csv_path = main_path + 'mitbih_train.csv'\n",
        "    test_original_csv_path = main_path + 'mitbih_test.csv'\n",
        "    train_csv_path = main_path + 'mitbih_train_new.csv'\n",
        "    test_csv_path = main_path + 'mitbih_test_new.csv'\n",
        "\n",
        "def seed_everything(seed: int):\n",
        "    random.seed(seed)\n",
        "    np.random.seed(seed)\n",
        "    torch.manual_seed(seed)\n",
        "    if torch.cuda.is_available():\n",
        "        torch.cuda.manual_seed(seed)\n",
        "config = Config()\n",
        "seed_everything(config.seed)"
      ]
    },
    {
      "cell_type": "code",
      "source": [
        "id_to_label = {\n",
        "    0: \"Normal\",\n",
        "    1: \"Artial Premature\",\n",
        "    2: \"Premature ventricular contraction\",\n",
        "    3: \"Fusion of ventricular and normal\",\n",
        "    4: \"Fusion of paced and normal\"\n",
        "}\n",
        "\n",
        "df_train = pd.read_csv(config.train_original_csv_path, header=None)\n",
        "df_train.rename(columns={187: 'class'}, inplace=True)\n",
        "df_train['label'] = df_train.iloc[:, -1].map(id_to_label)\n",
        "df_train.to_csv(config.train_csv_path, index=False)\n",
        "\n",
        "df_test = pd.read_csv(config.test_original_csv_path, header=None)\n",
        "df_test.rename(columns={187: 'class'}, inplace=True)\n",
        "df_test['label'] = df_test.iloc[:, -1].map(id_to_label)\n",
        "df_test.to_csv(config.test_csv_path, index=False)"
      ],
      "metadata": {
        "id": "hqbgUfMxc8uv"
      },
      "execution_count": null,
      "outputs": []
    },
    {
      "cell_type": "markdown",
      "metadata": {
        "papermill": {
          "duration": 0.036477,
          "end_time": "2021-02-26T10:26:22.164927",
          "exception": false,
          "start_time": "2021-02-26T10:26:22.128450",
          "status": "completed"
        },
        "tags": [],
        "id": "hLJ5NzYpGUrq"
      },
      "source": [
        "## Dataset and DataLoader"
      ]
    },
    {
      "cell_type": "code",
      "execution_count": null,
      "metadata": {
        "execution": {
          "iopub.execute_input": "2021-02-26T10:26:22.244328Z",
          "iopub.status.busy": "2021-02-26T10:26:22.243622Z",
          "iopub.status.idle": "2021-02-26T10:26:22.246506Z",
          "shell.execute_reply": "2021-02-26T10:26:22.246079Z"
        },
        "papermill": {
          "duration": 0.0452,
          "end_time": "2021-02-26T10:26:22.246619",
          "exception": false,
          "start_time": "2021-02-26T10:26:22.201419",
          "status": "completed"
        },
        "tags": [],
        "id": "W0Fs1MCRGUrq"
      },
      "outputs": [],
      "source": [
        "class ECGDataset(Dataset):\n",
        "\n",
        "    def __init__(self, df):\n",
        "        self.df = df\n",
        "        self.data_columns = self.df.columns[:-2].tolist()\n",
        "\n",
        "    def __getitem__(self, idx):\n",
        "        signal = self.df.loc[idx, self.data_columns].astype('float32')\n",
        "        signal = torch.FloatTensor([signal.values])                 \n",
        "        target = torch.LongTensor(np.array(self.df.loc[idx, 'class']))\n",
        "        return signal, target\n",
        "\n",
        "    def __len__(self):\n",
        "        return len(self.df)"
      ]
    },
    {
      "cell_type": "code",
      "execution_count": null,
      "metadata": {
        "execution": {
          "iopub.execute_input": "2021-02-26T10:26:22.325431Z",
          "iopub.status.busy": "2021-02-26T10:26:22.324692Z",
          "iopub.status.idle": "2021-02-26T10:26:22.327292Z",
          "shell.execute_reply": "2021-02-26T10:26:22.326896Z"
        },
        "papermill": {
          "duration": 0.044847,
          "end_time": "2021-02-26T10:26:22.327415",
          "exception": false,
          "start_time": "2021-02-26T10:26:22.282568",
          "status": "completed"
        },
        "tags": [],
        "id": "hpEVFaRAGUrq"
      },
      "outputs": [],
      "source": [
        "def get_dataloader(phase: str, batch_size: int = 96) -> DataLoader:\n",
        "    '''\n",
        "    Dataset and DataLoader.\n",
        "    Parameters:\n",
        "        pahse: training or validation phase.\n",
        "        batch_size: data per iteration.\n",
        "    Returns:\n",
        "        data generator\n",
        "    '''\n",
        "    df = pd.read_csv(config.train_csv_path)\n",
        "    train_df, val_df = train_test_split(\n",
        "        df, test_size=0.15, random_state=config.seed, stratify=df['label']\n",
        "    )\n",
        "    train_df, val_df = train_df.reset_index(drop=True), val_df.reset_index(drop=True)\n",
        "    df = train_df if phase == 'train' else val_df\n",
        "    dataset = ECGDataset(df)\n",
        "    dataloader = DataLoader(dataset=dataset, batch_size=batch_size, num_workers=4)\n",
        "    return dataloader"
      ]
    },
    {
      "cell_type": "markdown",
      "metadata": {
        "papermill": {
          "duration": 0.036085,
          "end_time": "2021-02-26T10:26:22.399392",
          "exception": false,
          "start_time": "2021-02-26T10:26:22.363307",
          "status": "completed"
        },
        "tags": [],
        "id": "2x8356cVGUrr"
      },
      "source": [
        "# Models"
      ]
    },
    {
      "cell_type": "code",
      "execution_count": null,
      "metadata": {
        "execution": {
          "iopub.execute_input": "2021-02-26T10:26:22.833940Z",
          "iopub.status.busy": "2021-02-26T10:26:22.833198Z",
          "iopub.status.idle": "2021-02-26T10:26:22.836007Z",
          "shell.execute_reply": "2021-02-26T10:26:22.835577Z"
        },
        "papermill": {
          "duration": 0.051528,
          "end_time": "2021-02-26T10:26:22.836109",
          "exception": false,
          "start_time": "2021-02-26T10:26:22.784581",
          "status": "completed"
        },
        "tags": [],
        "id": "8svPcbOiGUrr"
      },
      "outputs": [],
      "source": [
        "class Swish(nn.Module):\n",
        "    def forward(self, x):\n",
        "        return x * torch.sigmoid(x)\n",
        "        \n",
        "class ConvNormPool(nn.Module):\n",
        "    \"\"\"Conv Skip-connection module\"\"\"\n",
        "    def __init__(\n",
        "        self,\n",
        "        input_size,\n",
        "        hidden_size,\n",
        "        kernel_size,\n",
        "        norm_type='bachnorm'\n",
        "    ):\n",
        "        super().__init__()\n",
        "        \n",
        "        self.kernel_size = kernel_size\n",
        "        self.conv_1 = nn.Conv1d(\n",
        "            in_channels=input_size,\n",
        "            out_channels=hidden_size,\n",
        "            kernel_size=kernel_size\n",
        "        )\n",
        "        self.conv_2 = nn.Conv1d(\n",
        "            in_channels=hidden_size,\n",
        "            out_channels=hidden_size,\n",
        "            kernel_size=kernel_size\n",
        "        )\n",
        "        self.conv_3 = nn.Conv1d(\n",
        "            in_channels=hidden_size,\n",
        "            out_channels=hidden_size,\n",
        "            kernel_size=kernel_size\n",
        "        )\n",
        "        self.swish_1 = Swish()\n",
        "        self.swish_2 = Swish()\n",
        "        self.swish_3 = Swish()\n",
        "        if norm_type == 'group':\n",
        "            self.normalization_1 = nn.GroupNorm(\n",
        "                num_groups=8,\n",
        "                num_channels=hidden_size\n",
        "            )\n",
        "            self.normalization_2 = nn.GroupNorm(\n",
        "                num_groups=8,\n",
        "                num_channels=hidden_size\n",
        "            )\n",
        "            self.normalization_3 = nn.GroupNorm(\n",
        "                num_groups=8,\n",
        "                num_channels=hidden_size\n",
        "            )\n",
        "        else:\n",
        "            self.normalization_1 = nn.BatchNorm1d(num_features=hidden_size)\n",
        "            self.normalization_2 = nn.BatchNorm1d(num_features=hidden_size)\n",
        "            self.normalization_3 = nn.BatchNorm1d(num_features=hidden_size)\n",
        "            \n",
        "        self.pool = nn.MaxPool1d(kernel_size=2)\n",
        "        \n",
        "    def forward(self, input):\n",
        "        conv1 = self.conv_1(input)\n",
        "        x = self.normalization_1(conv1)\n",
        "        x = self.swish_1(x)\n",
        "        x = F.pad(x, pad=(self.kernel_size - 1, 0))\n",
        "        \n",
        "        x = self.conv_2(x)\n",
        "        x = self.normalization_2(x)\n",
        "        x = self.swish_2(x)\n",
        "        x = F.pad(x, pad=(self.kernel_size - 1, 0))\n",
        "        \n",
        "        conv3 = self.conv_3(x)\n",
        "        x = self.normalization_3(conv1+conv3)\n",
        "        x = self.swish_3(x)\n",
        "        x = F.pad(x, pad=(self.kernel_size - 1, 0))   \n",
        "        \n",
        "        x = self.pool(x)\n",
        "        return x"
      ]
    },
    {
      "cell_type": "code",
      "execution_count": null,
      "metadata": {
        "execution": {
          "iopub.execute_input": "2021-02-26T10:26:22.919332Z",
          "iopub.status.busy": "2021-02-26T10:26:22.918609Z",
          "iopub.status.idle": "2021-02-26T10:26:22.921462Z",
          "shell.execute_reply": "2021-02-26T10:26:22.921045Z"
        },
        "papermill": {
          "duration": 0.048048,
          "end_time": "2021-02-26T10:26:22.921582",
          "exception": false,
          "start_time": "2021-02-26T10:26:22.873534",
          "status": "completed"
        },
        "tags": [],
        "id": "owJAS2sGGUrr"
      },
      "outputs": [],
      "source": [
        "class CNN(nn.Module):\n",
        "    def __init__(\n",
        "        self,\n",
        "        input_size = 1,\n",
        "        hid_size = 256,\n",
        "        kernel_size = 5,\n",
        "        num_classes = 5,\n",
        "    ):\n",
        "        \n",
        "        super().__init__()\n",
        "        \n",
        "        self.conv1 = ConvNormPool(\n",
        "            input_size=input_size,\n",
        "            hidden_size=hid_size,\n",
        "            kernel_size=kernel_size,\n",
        "        )\n",
        "        self.conv2 = ConvNormPool(\n",
        "            input_size=hid_size,\n",
        "            hidden_size=hid_size//2,\n",
        "            kernel_size=kernel_size,\n",
        "        )\n",
        "        self.conv3 = ConvNormPool(\n",
        "            input_size=hid_size//2,\n",
        "            hidden_size=hid_size//4,\n",
        "            kernel_size=kernel_size,\n",
        "        )\n",
        "        self.avgpool = nn.AdaptiveAvgPool1d((1))\n",
        "        self.fc = nn.Linear(in_features=hid_size//4, out_features=num_classes)\n",
        "        \n",
        "    def forward(self, input):\n",
        "        x = self.conv1(input)\n",
        "        x = self.conv2(x)\n",
        "        x = self.conv3(x)\n",
        "        x = self.avgpool(x)        \n",
        "        # print(x.shape) # num_features * num_channels\n",
        "        x = x.view(-1, x.size(1) * x.size(2))\n",
        "        x = F.softmax(self.fc(x), dim=1)\n",
        "        return x"
      ]
    },
    {
      "cell_type": "code",
      "execution_count": null,
      "metadata": {
        "execution": {
          "iopub.execute_input": "2021-02-26T10:26:23.006076Z",
          "iopub.status.busy": "2021-02-26T10:26:23.005226Z",
          "iopub.status.idle": "2021-02-26T10:26:23.008221Z",
          "shell.execute_reply": "2021-02-26T10:26:23.007793Z"
        },
        "papermill": {
          "duration": 0.048536,
          "end_time": "2021-02-26T10:26:23.008361",
          "exception": false,
          "start_time": "2021-02-26T10:26:22.959825",
          "status": "completed"
        },
        "tags": [],
        "id": "obvaBvKeGUrs"
      },
      "outputs": [],
      "source": [
        "class RNN(nn.Module):\n",
        "    \"\"\"RNN module(cell type lstm or gru)\"\"\"\n",
        "    def __init__(\n",
        "        self,\n",
        "        input_size,\n",
        "        hid_size,\n",
        "        num_rnn_layers=1,\n",
        "        dropout_p = 0.2,\n",
        "        bidirectional = False,\n",
        "        rnn_type = 'lstm',\n",
        "    ):\n",
        "        super().__init__()\n",
        "        \n",
        "        if rnn_type == 'lstm':\n",
        "            self.rnn_layer = nn.LSTM(\n",
        "                input_size=input_size,\n",
        "                hidden_size=hid_size,\n",
        "                num_layers=num_rnn_layers,\n",
        "                dropout=dropout_p if num_rnn_layers>1 else 0,\n",
        "                bidirectional=bidirectional,\n",
        "                batch_first=True,\n",
        "            )\n",
        "            \n",
        "        else:\n",
        "            self.rnn_layer = nn.GRU(\n",
        "                input_size=input_size,\n",
        "                hidden_size=hid_size,\n",
        "                num_layers=num_rnn_layers,\n",
        "                dropout=dropout_p if num_rnn_layers>1 else 0,\n",
        "                bidirectional=bidirectional,\n",
        "                batch_first=True,\n",
        "            )\n",
        "    def forward(self, input):\n",
        "        outputs, hidden_states = self.rnn_layer(input)\n",
        "        return outputs, hidden_states"
      ]
    },
    {
      "cell_type": "code",
      "execution_count": null,
      "metadata": {
        "execution": {
          "iopub.execute_input": "2021-02-26T10:26:23.261900Z",
          "iopub.status.busy": "2021-02-26T10:26:23.260738Z",
          "iopub.status.idle": "2021-02-26T10:26:23.263636Z",
          "shell.execute_reply": "2021-02-26T10:26:23.263186Z"
        },
        "papermill": {
          "duration": 0.049808,
          "end_time": "2021-02-26T10:26:23.263747",
          "exception": false,
          "start_time": "2021-02-26T10:26:23.213939",
          "status": "completed"
        },
        "tags": [],
        "id": "UViG8HUnGUrs"
      },
      "outputs": [],
      "source": [
        "class RNNAttentionModel(nn.Module):\n",
        "    def __init__(\n",
        "        self,\n",
        "        input_size,\n",
        "        hid_size,\n",
        "        rnn_type,\n",
        "        bidirectional,\n",
        "        n_classes=5,\n",
        "        kernel_size=5,\n",
        "    ):\n",
        "        super().__init__()\n",
        " \n",
        "        self.rnn_layer = RNN(\n",
        "            input_size=46,\n",
        "            hid_size=hid_size,\n",
        "            rnn_type=rnn_type,\n",
        "            bidirectional=bidirectional\n",
        "        )\n",
        "        self.conv1 = ConvNormPool(\n",
        "            input_size=input_size,\n",
        "            hidden_size=hid_size,\n",
        "            kernel_size=kernel_size,\n",
        "        )\n",
        "        self.conv2 = ConvNormPool(\n",
        "            input_size=hid_size,\n",
        "            hidden_size=hid_size,\n",
        "            kernel_size=kernel_size,\n",
        "        )\n",
        "        self.avgpool = nn.AdaptiveMaxPool1d((1))\n",
        "        self.attn = nn.Linear(hid_size, hid_size, bias=False)\n",
        "        self.fc = nn.Linear(in_features=hid_size, out_features=n_classes)\n",
        "        \n",
        "    def forward(self, input):\n",
        "        x = self.conv1(input)\n",
        "        x = self.conv2(x)\n",
        "        x_out, hid_states = self.rnn_layer(x)\n",
        "        x = torch.cat([hid_states[0], hid_states[1]], dim=0).transpose(0, 1)\n",
        "        x_attn = torch.tanh(self.attn(x))\n",
        "        x = x_attn.bmm(x_out)\n",
        "        x = x.transpose(2, 1)\n",
        "        x = self.avgpool(x)\n",
        "        x = x.view(-1, x.size(1) * x.size(2))\n",
        "        x = F.softmax(self.fc(x), dim=-1)\n",
        "        return x"
      ]
    },
    {
      "cell_type": "markdown",
      "metadata": {
        "papermill": {
          "duration": 0.037784,
          "end_time": "2021-02-26T10:26:23.339934",
          "exception": false,
          "start_time": "2021-02-26T10:26:23.302150",
          "status": "completed"
        },
        "tags": [],
        "id": "K871x6nqGUrs"
      },
      "source": [
        "# Training Stage"
      ]
    },
    {
      "cell_type": "code",
      "execution_count": null,
      "metadata": {
        "execution": {
          "iopub.execute_input": "2021-02-26T10:26:23.425370Z",
          "iopub.status.busy": "2021-02-26T10:26:23.424774Z",
          "iopub.status.idle": "2021-02-26T10:26:23.429008Z",
          "shell.execute_reply": "2021-02-26T10:26:23.428574Z"
        },
        "papermill": {
          "duration": 0.051381,
          "end_time": "2021-02-26T10:26:23.429115",
          "exception": false,
          "start_time": "2021-02-26T10:26:23.377734",
          "status": "completed"
        },
        "tags": [],
        "id": "ZtO4Ak03GUrs"
      },
      "outputs": [],
      "source": [
        "class Meter:\n",
        "    def __init__(self, n_classes=5):\n",
        "        self.metrics = {}\n",
        "        self.confusion = torch.zeros((n_classes, n_classes))\n",
        "    \n",
        "    def update(self, x, y, loss):\n",
        "        x = np.argmax(x.detach().cpu().numpy(), axis=1)\n",
        "        y = y.detach().cpu().numpy()\n",
        "        self.metrics['loss'] += loss\n",
        "        self.metrics['accuracy'] += accuracy_score(x,y)\n",
        "        self.metrics['f1'] += f1_score(x,y,average='macro')\n",
        "        self.metrics['precision'] += precision_score(x, y, average='macro', zero_division=1)\n",
        "        self.metrics['recall'] += recall_score(x,y, average='macro', zero_division=1)\n",
        "        \n",
        "        self._compute_cm(x, y)\n",
        "        \n",
        "    def _compute_cm(self, x, y):\n",
        "        for prob, target in zip(x, y):\n",
        "            if prob == target:\n",
        "                self.confusion[target][target] += 1\n",
        "            else:\n",
        "                self.confusion[target][prob] += 1\n",
        "    \n",
        "    def init_metrics(self):\n",
        "        self.metrics['loss'] = 0\n",
        "        self.metrics['accuracy'] = 0\n",
        "        self.metrics['f1'] = 0\n",
        "        self.metrics['precision'] = 0\n",
        "        self.metrics['recall'] = 0\n",
        "        \n",
        "    def get_metrics(self):\n",
        "        return self.metrics\n",
        "    \n",
        "    def get_confusion_matrix(self):\n",
        "        return self.confusion"
      ]
    },
    {
      "cell_type": "code",
      "execution_count": null,
      "metadata": {
        "execution": {
          "iopub.execute_input": "2021-02-26T10:26:23.520928Z",
          "iopub.status.busy": "2021-02-26T10:26:23.520171Z",
          "iopub.status.idle": "2021-02-26T10:26:23.522824Z",
          "shell.execute_reply": "2021-02-26T10:26:23.522431Z"
        },
        "papermill": {
          "duration": 0.055837,
          "end_time": "2021-02-26T10:26:23.522930",
          "exception": false,
          "start_time": "2021-02-26T10:26:23.467093",
          "status": "completed"
        },
        "tags": [],
        "id": "GG9M91zFGUrt"
      },
      "outputs": [],
      "source": [
        "class Trainer:\n",
        "    def __init__(self, net, lr, batch_size, num_epochs):\n",
        "        self.net = net.to(config.device)\n",
        "        self.num_epochs = num_epochs\n",
        "        self.criterion = nn.CrossEntropyLoss()\n",
        "        self.optimizer = AdamW(self.net.parameters(), lr=lr)\n",
        "        self.scheduler = CosineAnnealingLR(self.optimizer, T_max=num_epochs, eta_min=5e-6)\n",
        "        self.best_loss = float('inf')\n",
        "        self.phases = ['train', 'val']\n",
        "        self.dataloaders = {\n",
        "            phase: get_dataloader(phase, batch_size) for phase in self.phases\n",
        "        }\n",
        "        self.train_df_logs = pd.DataFrame()\n",
        "        self.val_df_logs = pd.DataFrame()\n",
        "    \n",
        "    def _train_epoch(self, phase):\n",
        "        print(f\"{phase} mode | time: {time.strftime('%H:%M:%S')}\")\n",
        "        \n",
        "        self.net.train() if phase == 'train' else self.net.eval()\n",
        "        meter = Meter()\n",
        "        meter.init_metrics()\n",
        "        \n",
        "        for i, (data, target) in enumerate(self.dataloaders[phase]):\n",
        "            data = data.to(config.device)\n",
        "            target = target.to(config.device)\n",
        "            \n",
        "            output = self.net(data)\n",
        "            loss = self.criterion(output, target)\n",
        "                        \n",
        "            if phase == 'train':\n",
        "                self.optimizer.zero_grad()\n",
        "                loss.backward()\n",
        "                self.optimizer.step()\n",
        "            \n",
        "            meter.update(output, target, loss.item())\n",
        "        \n",
        "        metrics = meter.get_metrics()\n",
        "        metrics = {k:v / i for k, v in metrics.items()}\n",
        "        df_logs = pd.DataFrame([metrics])\n",
        "        confusion_matrix = meter.get_confusion_matrix()\n",
        "        \n",
        "        if phase == 'train':\n",
        "            self.train_df_logs = pd.concat([self.train_df_logs, df_logs], axis=0)\n",
        "        else:\n",
        "            self.val_df_logs = pd.concat([self.val_df_logs, df_logs], axis=0)\n",
        "        \n",
        "        # show logs\n",
        "        print('{}: {}, {}: {}, {}: {}, {}: {}, {}: {}'\n",
        "              .format(*(x for kv in metrics.items() for x in kv))\n",
        "             )\n",
        "        # fig, ax = plt.subplots(figsize=(5, 5))\n",
        "        # cm_ = ax.imshow(confusion_matrix, cmap='hot')\n",
        "        # ax.set_title('Confusion matrix', fontsize=15)\n",
        "        # ax.set_xlabel('Actual', fontsize=13)\n",
        "        # ax.set_ylabel('Predicted', fontsize=13)\n",
        "        # plt.colorbar(cm_)\n",
        "        # plt.show()\n",
        "        \n",
        "        return loss\n",
        "    \n",
        "    def run(self):\n",
        "        for epoch in range(self.num_epochs):\n",
        "            print(f'Epoch: {epoch}')\n",
        "            self._train_epoch(phase='train')\n",
        "            with torch.no_grad():\n",
        "                val_loss = self._train_epoch(phase='val')\n",
        "                self.scheduler.step()\n",
        "            \n",
        "            if val_loss < self.best_loss:\n",
        "                self.best_loss = val_loss\n",
        "                print('\\nNew checkpoint\\n')\n",
        "                self.best_loss = val_loss\n",
        "                torch.save(self.net.state_dict(), config.attn_state_path)\n",
        "        torch.save(self.net.state_dict(), config.attn_state_path + \"_last_epoch\")"
      ]
    },
    {
      "cell_type": "code",
      "execution_count": null,
      "metadata": {
        "execution": {
          "iopub.execute_input": "2021-02-26T10:26:23.602709Z",
          "iopub.status.busy": "2021-02-26T10:26:23.602185Z",
          "iopub.status.idle": "2021-02-26T10:26:23.627471Z",
          "shell.execute_reply": "2021-02-26T10:26:23.627049Z"
        },
        "papermill": {
          "duration": 0.066375,
          "end_time": "2021-02-26T10:26:23.627576",
          "exception": false,
          "start_time": "2021-02-26T10:26:23.561201",
          "status": "completed"
        },
        "tags": [],
        "id": "0ku3WADBGUrt"
      },
      "outputs": [],
      "source": [
        "model = RNNAttentionModel(1, 64, 'lstm', False)"
      ]
    },
    {
      "cell_type": "code",
      "execution_count": null,
      "metadata": {
        "execution": {
          "iopub.execute_input": "2021-02-26T10:26:23.713205Z",
          "iopub.status.busy": "2021-02-26T10:26:23.712623Z",
          "iopub.status.idle": "2021-02-26T10:42:44.174291Z",
          "shell.execute_reply": "2021-02-26T10:42:44.174724Z"
        },
        "papermill": {
          "duration": 980.509219,
          "end_time": "2021-02-26T10:42:44.174890",
          "exception": false,
          "start_time": "2021-02-26T10:26:23.665671",
          "status": "completed"
        },
        "tags": [],
        "id": "QaypoDZjGUrt"
      },
      "outputs": [],
      "source": [
        "trainer = Trainer(net=model, lr=1e-3, batch_size=96, num_epochs=300)\n",
        "trainer.run()"
      ]
    },
    {
      "cell_type": "markdown",
      "metadata": {
        "papermill": {
          "duration": 0.061158,
          "end_time": "2021-02-26T10:42:44.433350",
          "exception": false,
          "start_time": "2021-02-26T10:42:44.372192",
          "status": "completed"
        },
        "tags": [],
        "id": "K-HqupwgGUrt"
      },
      "source": [
        "# Experiments and Results"
      ]
    },
    {
      "cell_type": "code",
      "execution_count": null,
      "metadata": {
        "execution": {
          "iopub.execute_input": "2021-02-26T10:42:47.349286Z",
          "iopub.status.busy": "2021-02-26T10:42:47.348547Z",
          "iopub.status.idle": "2021-02-26T10:42:47.403362Z",
          "shell.execute_reply": "2021-02-26T10:42:47.402897Z"
        },
        "papermill": {
          "duration": 0.1253,
          "end_time": "2021-02-26T10:42:47.403486",
          "exception": false,
          "start_time": "2021-02-26T10:42:47.278186",
          "status": "completed"
        },
        "tags": [],
        "id": "rghkhAg6GUru"
      },
      "outputs": [],
      "source": [
        "attn_model = RNNAttentionModel(1, 64, 'lstm', False).to(config.device)\n",
        "attn_model.load_state_dict(\n",
        "    torch.load(config.attn_state_path,\n",
        "               map_location=config.device)\n",
        ");\n",
        "\n",
        "attn_model.eval();"
      ]
    },
    {
      "cell_type": "markdown",
      "metadata": {
        "papermill": {
          "duration": 0.0661,
          "end_time": "2021-02-26T10:42:48.534013",
          "exception": false,
          "start_time": "2021-02-26T10:42:48.467913",
          "status": "completed"
        },
        "tags": [],
        "id": "1aZXT7eDGUru"
      },
      "source": [
        "## Experiments and Results for Test Stage"
      ]
    },
    {
      "cell_type": "code",
      "execution_count": null,
      "metadata": {
        "execution": {
          "iopub.execute_input": "2021-02-26T10:42:48.674124Z",
          "iopub.status.busy": "2021-02-26T10:42:48.673606Z",
          "iopub.status.idle": "2021-02-26T10:42:49.589669Z",
          "shell.execute_reply": "2021-02-26T10:42:49.588931Z"
        },
        "papermill": {
          "duration": 0.989853,
          "end_time": "2021-02-26T10:42:49.589832",
          "exception": false,
          "start_time": "2021-02-26T10:42:48.599979",
          "status": "completed"
        },
        "tags": [],
        "id": "Mla1OjFfGUru"
      },
      "outputs": [],
      "source": [
        "test_df = pd.read_csv(config.test_csv_path)\n",
        "print(test_df.shape)\n",
        "test_dataset = ECGDataset(test_df)\n",
        "test_dataloader = DataLoader(dataset=test_dataset, batch_size=96, num_workers=0, shuffle=False)"
      ]
    },
    {
      "cell_type": "code",
      "execution_count": null,
      "metadata": {
        "execution": {
          "iopub.execute_input": "2021-02-26T10:42:49.736007Z",
          "iopub.status.busy": "2021-02-26T10:42:49.735261Z",
          "iopub.status.idle": "2021-02-26T10:42:49.739025Z",
          "shell.execute_reply": "2021-02-26T10:42:49.738591Z"
        },
        "papermill": {
          "duration": 0.08156,
          "end_time": "2021-02-26T10:42:49.739135",
          "exception": false,
          "start_time": "2021-02-26T10:42:49.657575",
          "status": "completed"
        },
        "tags": [],
        "id": "6IXX1soEGUru"
      },
      "outputs": [],
      "source": [
        "def make_test_stage(dataloader, model, probs=False):\n",
        "    cls_predictions = []\n",
        "    cls_ground_truths = []\n",
        "\n",
        "    for i, (data, cls_target) in enumerate(dataloader):\n",
        "        with torch.no_grad():\n",
        "\n",
        "            data = data.to(config.device)\n",
        "            cls_target = cls_target.cpu()\n",
        "            cls_prediction = model(data)\n",
        "            \n",
        "            if not probs:\n",
        "                cls_prediction = torch.argmax(cls_prediction, dim=1)\n",
        "    \n",
        "            cls_predictions.append(cls_prediction.detach().cpu())\n",
        "            cls_ground_truths.append(cls_target)\n",
        "\n",
        "    predictions_cls = torch.cat(cls_predictions).numpy()\n",
        "    ground_truths_cls = torch.cat(cls_ground_truths).numpy()\n",
        "    return predictions_cls, ground_truths_cls"
      ]
    },
    {
      "cell_type": "code",
      "execution_count": null,
      "metadata": {
        "execution": {
          "iopub.execute_input": "2021-02-26T10:42:49.881402Z",
          "iopub.status.busy": "2021-02-26T10:42:49.880093Z",
          "iopub.status.idle": "2021-02-26T10:42:49.882669Z",
          "shell.execute_reply": "2021-02-26T10:42:49.883076Z"
        },
        "papermill": {
          "duration": 0.075604,
          "end_time": "2021-02-26T10:42:49.883221",
          "exception": false,
          "start_time": "2021-02-26T10:42:49.807617",
          "status": "completed"
        },
        "tags": [],
        "id": "-kwFE2suGUru"
      },
      "outputs": [],
      "source": [
        "models = attn_model"
      ]
    },
    {
      "cell_type": "markdown",
      "metadata": {
        "papermill": {
          "duration": 0.071668,
          "end_time": "2021-02-26T10:43:30.996564",
          "exception": false,
          "start_time": "2021-02-26T10:43:30.924896",
          "status": "completed"
        },
        "tags": [],
        "id": "_lRqryKfGUrv"
      },
      "source": [
        "### cnn+lstm+attention model report"
      ]
    },
    {
      "cell_type": "code",
      "execution_count": null,
      "metadata": {
        "execution": {
          "iopub.execute_input": "2021-02-26T10:43:31.144716Z",
          "iopub.status.busy": "2021-02-26T10:43:31.144134Z",
          "iopub.status.idle": "2021-02-26T10:43:50.045400Z",
          "shell.execute_reply": "2021-02-26T10:43:50.044941Z"
        },
        "papermill": {
          "duration": 18.976387,
          "end_time": "2021-02-26T10:43:50.045546",
          "exception": false,
          "start_time": "2021-02-26T10:43:31.069159",
          "status": "completed"
        },
        "tags": [],
        "id": "5fP8f1P2GUrv"
      },
      "outputs": [],
      "source": [
        "y_pred, y_true = make_test_stage(test_dataloader, models)\n",
        "\n",
        "report = pd.DataFrame(\n",
        "    classification_report(\n",
        "        y_pred,\n",
        "        y_true,\n",
        "        output_dict=True\n",
        "    )\n",
        ").transpose()"
      ]
    },
    {
      "cell_type": "code",
      "source": [
        "report"
      ],
      "metadata": {
        "id": "nMcVzPJMTUDS"
      },
      "execution_count": null,
      "outputs": []
    }
  ],
  "metadata": {
    "kernelspec": {
      "display_name": "Python 3",
      "language": "python",
      "name": "python3"
    },
    "language_info": {
      "codemirror_mode": {
        "name": "ipython",
        "version": 3
      },
      "file_extension": ".py",
      "mimetype": "text/x-python",
      "name": "python",
      "nbconvert_exporter": "python",
      "pygments_lexer": "ipython3",
      "version": "3.8.8"
    },
    "latex_envs": {
      "LaTeX_envs_menu_present": true,
      "autoclose": false,
      "autocomplete": true,
      "bibliofile": "biblio.bib",
      "cite_by": "apalike",
      "current_citInitial": 1,
      "eqLabelWithNumbers": true,
      "eqNumInitial": 1,
      "hotkeys": {
        "equation": "Ctrl-E",
        "itemize": "Ctrl-I"
      },
      "labels_anchors": false,
      "latex_user_defs": false,
      "report_style_numbering": false,
      "user_envs_cfg": false
    },
    "papermill": {
      "default_parameters": {},
      "duration": 1259.083598,
      "end_time": "2021-02-26T10:44:51.920857",
      "environment_variables": {},
      "exception": null,
      "input_path": "__notebook__.ipynb",
      "output_path": "__notebook__.ipynb",
      "parameters": {},
      "start_time": "2021-02-26T10:23:52.837259",
      "version": "2.2.2"
    },
    "toc": {
      "base_numbering": 1,
      "nav_menu": {},
      "number_sections": true,
      "sideBar": true,
      "skip_h1_title": false,
      "title_cell": "Table of Contents",
      "title_sidebar": "Contents",
      "toc_cell": false,
      "toc_position": {},
      "toc_section_display": true,
      "toc_window_display": true
    },
    "colab": {
      "name": "cnn-lstm-attention-mechanism.ipynb",
      "provenance": [],
      "collapsed_sections": [],
      "machine_shape": "hm"
    },
    "accelerator": "GPU"
  },
  "nbformat": 4,
  "nbformat_minor": 0
}