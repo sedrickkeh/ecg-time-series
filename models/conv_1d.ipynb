{
 "cells": [
  {
   "cell_type": "code",
   "execution_count": 113,
   "id": "05f0abf0",
   "metadata": {
    "_cell_guid": "b1076dfc-b9ad-4769-8c92-a6c4dae69d19",
    "_uuid": "8f2839f25d086af736a60e9eeb907d3b93b6e0e5",
    "execution": {
     "iopub.execute_input": "2022-02-21T13:16:02.832121Z",
     "iopub.status.busy": "2022-02-21T13:16:02.826937Z",
     "iopub.status.idle": "2022-02-21T13:16:02.848793Z",
     "shell.execute_reply": "2022-02-21T13:16:02.847848Z"
    },
    "papermill": {
     "duration": 0.03589,
     "end_time": "2022-02-21T13:16:02.849028",
     "exception": false,
     "start_time": "2022-02-21T13:16:02.813138",
     "status": "completed"
    },
    "tags": []
   },
   "outputs": [],
   "source": [
    "# Ref: https://www.kaggle.com/luowenjun/using-conv1d-reach-the-accuracy-98-30-by-pytorch\n",
    "\n",
    "import os\n",
    "import sys\n",
    "import numpy as np\n",
    "import pandas as pd\n",
    "import matplotlib.pyplot as plt\n",
    "from tqdm import tqdm\n",
    "\n",
    "from sklearn.metrics import precision_score, recall_score, f1_score, accuracy_score\n",
    "from sklearn.metrics import confusion_matrix\n",
    "\n",
    "import torch\n",
    "from torch.utils.data import DataLoader\n",
    "from torch import nn,optim\n",
    "\n",
    "%matplotlib inline"
   ]
  },
  {
   "cell_type": "code",
   "execution_count": 4,
   "id": "d546036a",
   "metadata": {
    "execution": {
     "iopub.execute_input": "2022-02-21T13:16:04.964706Z",
     "iopub.status.busy": "2022-02-21T13:16:04.961631Z",
     "iopub.status.idle": "2022-02-21T13:16:04.975537Z",
     "shell.execute_reply": "2022-02-21T13:16:04.976392Z",
     "shell.execute_reply.started": "2022-02-21T13:09:17.765440Z"
    },
    "papermill": {
     "duration": 0.037776,
     "end_time": "2022-02-21T13:16:04.976673",
     "exception": false,
     "start_time": "2022-02-21T13:16:04.938897",
     "status": "completed"
    },
    "tags": []
   },
   "outputs": [],
   "source": [
    "def my_DataLoader(train_root,test_root,batch_size = 100, val_split_factor = 0.2):\n",
    "\n",
    "    train_df = pd.read_csv(train_root, header=None)\n",
    "    test_df = pd.read_csv(test_root, header=None)\n",
    "\n",
    "    train_data = train_df.to_numpy()\n",
    "    test_data = test_df.to_numpy()\n",
    "\n",
    "    train_dataset = torch.utils.data.TensorDataset(torch.from_numpy(train_data[:, :-1]).float(),\n",
    "                                                   torch.from_numpy(train_data[:, -1]).long(),)\n",
    "    test_dataset = torch.utils.data.TensorDataset(torch.from_numpy(test_data[:, :-1]).float(),\n",
    "                                                  torch.from_numpy(test_data[:, -1]).long())\n",
    "\n",
    "    train_len = train_data.shape[0]\n",
    "    val_len = int(train_len * val_split_factor)\n",
    "    train_len -= val_len\n",
    "\n",
    "    train_dataset, val_dataset = torch.utils.data.random_split(train_dataset, [train_len, val_len])\n",
    "\n",
    "    train_loader = DataLoader(train_dataset, batch_size=batch_size, shuffle=True)\n",
    "    val_loader = DataLoader(val_dataset, batch_size=batch_size, shuffle=True)\n",
    "    test_loader = DataLoader(test_dataset, batch_size=batch_size, shuffle=True)\n",
    "\n",
    "    return train_loader, val_loader, test_loader"
   ]
  },
  {
   "cell_type": "code",
   "execution_count": 5,
   "id": "138e1041",
   "metadata": {
    "execution": {
     "iopub.execute_input": "2022-02-21T13:16:05.019348Z",
     "iopub.status.busy": "2022-02-21T13:16:05.018183Z",
     "iopub.status.idle": "2022-02-21T13:16:05.024407Z",
     "shell.execute_reply": "2022-02-21T13:16:05.025728Z",
     "shell.execute_reply.started": "2022-02-21T13:09:17.777554Z"
    },
    "papermill": {
     "duration": 0.03493,
     "end_time": "2022-02-21T13:16:05.026057",
     "exception": false,
     "start_time": "2022-02-21T13:16:04.991127",
     "status": "completed"
    },
    "tags": []
   },
   "outputs": [],
   "source": [
    "class conv_net(nn.Module):\n",
    "\n",
    "    def __init__(self, num_of_class):\n",
    "        super(conv_net, self).__init__()\n",
    "\n",
    "        self.model = nn.Sequential(\n",
    "            nn.Conv1d(1, 16, kernel_size=3, stride=1, padding=1),\n",
    "            nn.MaxPool1d(2),\n",
    "\n",
    "            nn.Conv1d(16, 64, kernel_size=3, stride=1, padding=1),\n",
    "            nn.MaxPool1d(2),\n",
    "\n",
    "            nn.Conv1d(64, 128, kernel_size=3, stride=1, padding=1),\n",
    "            nn.MaxPool1d(2),\n",
    "\n",
    "        )\n",
    "\n",
    "        self.linear = nn.Sequential(\n",
    "            nn.Linear(2944,500),\n",
    "            nn.LeakyReLU(inplace=True),\n",
    "            nn.Linear(500, num_of_class),\n",
    "\n",
    "        )\n",
    "\n",
    "\n",
    "    def forward(self,x):\n",
    "        x = x.unsqueeze(1)\n",
    "        x = self.model(x)\n",
    "        x = x.view(x.size(0), -1)\n",
    "        x = self.linear(x)\n",
    "\n",
    "        return x"
   ]
  },
  {
   "cell_type": "code",
   "execution_count": 6,
   "id": "c9cd651d",
   "metadata": {
    "execution": {
     "iopub.execute_input": "2022-02-21T13:16:05.060678Z",
     "iopub.status.busy": "2022-02-21T13:16:05.057148Z",
     "iopub.status.idle": "2022-02-21T13:19:00.410659Z",
     "shell.execute_reply": "2022-02-21T13:19:00.411214Z",
     "shell.execute_reply.started": "2022-02-21T13:09:17.791217Z"
    },
    "papermill": {
     "duration": 175.375802,
     "end_time": "2022-02-21T13:19:00.411411",
     "exception": false,
     "start_time": "2022-02-21T13:16:05.035609",
     "status": "completed"
    },
    "tags": []
   },
   "outputs": [
    {
     "name": "stdout",
     "output_type": "stream",
     "text": [
      "using cpu device.\n"
     ]
    }
   ],
   "source": [
    "batch_size=1000\n",
    "lr = 3e-3\n",
    "epochs = 50\n",
    "torch.manual_seed(1234)\n",
    "\n",
    "device = torch.device(\"cuda:0\" if torch.cuda.is_available() else \"cpu\")\n",
    "print(\"using {} device.\".format(device))\n",
    "\n",
    "def evalute(model, loader):\n",
    "    model.eval()\n",
    "\n",
    "    correct = 0\n",
    "    total = len(loader.dataset)\n",
    "    val_bar = tqdm(loader, file=sys.stdout)\n",
    "    for x, y in val_bar:\n",
    "        x, y = x.to(device), y.to(device)\n",
    "        with torch.no_grad():\n",
    "            logits = model(x)\n",
    "            pred = logits.argmax(dim=1)\n",
    "        correct += torch.eq(pred, y).sum().float().item()\n",
    "\n",
    "    return correct / total\n",
    "\n",
    "def main():\n",
    "\n",
    "    train_loader, val_loader, test_loader = my_DataLoader('../data/mitbih_train.csv',\n",
    "                                                          '../data/mitbih_test.csv',\n",
    "                                                          batch_size=batch_size,\n",
    "                                                          val_split_factor=0.2)\n",
    "\n",
    "    model = conv_net(5).to(device)\n",
    "    optimizer = optim.Adam(model.parameters(), lr=lr)\n",
    "    criteon = nn.CrossEntropyLoss()\n",
    "\n",
    "    best_acc, best_epoch = 0, 0\n",
    "    global_step = 0\n",
    "\n",
    "    for epoch in range(epochs):\n",
    "\n",
    "        train_bar = tqdm(train_loader, file=sys.stdout)\n",
    "        for step, (x, y) in enumerate(train_bar):\n",
    "            x, y = x.to(device), y.to(device)\n",
    "\n",
    "            model.train()\n",
    "            logits = model(x)\n",
    "            loss = criteon(logits, y)\n",
    "\n",
    "            optimizer.zero_grad()\n",
    "            loss.backward()\n",
    "\n",
    "            optimizer.step()\n",
    "\n",
    "            train_bar.desc = \"train epoch[{}/{}] loss:{:.3f}\".format(epoch + 1,\n",
    "                                                                     epochs,\n",
    "                                                                     loss)\n",
    "\n",
    "            global_step += 1\n",
    "\n",
    "        if epoch % 1 == 0:\n",
    "\n",
    "            val_acc = evalute(model, val_loader)\n",
    "            print('val_acc = ',val_acc)\n",
    "            if val_acc > best_acc:\n",
    "                best_epoch = epoch\n",
    "                best_acc = val_acc\n",
    "\n",
    "                torch.save(model.state_dict(), 'best.mdl')\n",
    "\n",
    "    print('best acc:', best_acc, 'best epoch:', best_epoch)\n",
    "\n",
    "    model.load_state_dict(torch.load('best.mdl'))\n",
    "    print('loaded from ckpt!')\n",
    "\n",
    "    test_acc = evalute(model, test_loader)\n",
    "    print('test acc:', test_acc)\n",
    "\n",
    "\n",
    "# if __name__ == '__main__':\n",
    "#     main()"
   ]
  },
  {
   "cell_type": "markdown",
   "id": "b42b92f3",
   "metadata": {},
   "source": [
    "## Run"
   ]
  },
  {
   "cell_type": "code",
   "execution_count": 7,
   "id": "d1350335",
   "metadata": {},
   "outputs": [
    {
     "data": {
      "text/plain": [
       "<All keys matched successfully>"
      ]
     },
     "execution_count": 7,
     "metadata": {},
     "output_type": "execute_result"
    }
   ],
   "source": [
    "# load model states\n",
    "train_loader, val_loader, test_loader = my_DataLoader('../data/mitbih_train.csv',\n",
    "                                                      '../data/mitbih_test.csv',\n",
    "                                                      batch_size=batch_size,\n",
    "                                                      val_split_factor=0.2)\n",
    "\n",
    "model = conv_net(5).to(device)\n",
    "optimizer = optim.Adam(model.parameters(), lr=lr)\n",
    "criteon = nn.CrossEntropyLoss()\n",
    "\n",
    "best_acc, best_epoch = 0, 0\n",
    "global_step = 0\n",
    "\n",
    "model.load_state_dict(torch.load('best.mdl'))"
   ]
  },
  {
   "cell_type": "code",
   "execution_count": 37,
   "id": "a080affe",
   "metadata": {},
   "outputs": [
    {
     "name": "stdout",
     "output_type": "stream",
     "text": [
      "100%|██████████| 22/22 [00:00<00:00, 144.66it/s]\n",
      "test acc: 0.8276082587246483\n"
     ]
    }
   ],
   "source": [
    "# predict all zeros\n",
    "loader = test_loader\n",
    "\n",
    "model.eval()\n",
    "\n",
    "correct = 0\n",
    "total = len(loader.dataset)\n",
    "val_bar = tqdm(loader, file=sys.stdout)\n",
    "for x, y in val_bar:\n",
    "    x, y = x.to(device), y.to(device)\n",
    "    with torch.no_grad():\n",
    "        pred = torch.zeros(y.shape)\n",
    "    correct += torch.eq(pred, y).sum().float().item()\n",
    "    \n",
    "test_acc = correct / total\n",
    "print('test acc:', test_acc)"
   ]
  },
  {
   "cell_type": "code",
   "execution_count": 38,
   "id": "69239852",
   "metadata": {},
   "outputs": [
    {
     "name": "stdout",
     "output_type": "stream",
     "text": [
      "100%|██████████| 22/22 [00:03<00:00,  6.15it/s]\n",
      "test acc: 0.9836469943358305\n"
     ]
    }
   ],
   "source": [
    "# predict using best model\n",
    "loader = test_loader\n",
    "\n",
    "model.eval()\n",
    "\n",
    "correct = 0\n",
    "total = len(loader.dataset)\n",
    "val_bar = tqdm(loader, file=sys.stdout)\n",
    "for x, y in val_bar:\n",
    "    x, y = x.to(device), y.to(device)\n",
    "    with torch.no_grad():\n",
    "        logits = model(x)\n",
    "        pred = logits.argmax(dim=1)\n",
    "    correct += torch.eq(pred, y).sum().float().item()\n",
    "    \n",
    "test_acc = correct / total\n",
    "print('test acc:', test_acc)"
   ]
  },
  {
   "cell_type": "markdown",
   "id": "60b1b1bf",
   "metadata": {},
   "source": [
    "## Result"
   ]
  },
  {
   "cell_type": "code",
   "execution_count": null,
   "id": "b893c1da",
   "metadata": {},
   "outputs": [],
   "source": [
    "test_df = pd.read_csv('../data/mitbih_test.csv', header=None)\n",
    "test_data = test_df.to_numpy()\n",
    "\n",
    "test_dataset = torch.utils.data.TensorDataset(torch.from_numpy(test_data[:, :-1]).float(),\n",
    "                                              torch.from_numpy(test_data[:, -1]).long())\n",
    "\n",
    "test_loader = DataLoader(test_dataset, batch_size=len(test_dataset), shuffle=False)"
   ]
  },
  {
   "cell_type": "code",
   "execution_count": null,
   "id": "6c781712",
   "metadata": {},
   "outputs": [],
   "source": [
    "for x, y in test_loader:\n",
    "    logits = model(x)\n",
    "    pred = logits.argmax(dim=1)\n",
    "    true = y"
   ]
  },
  {
   "cell_type": "code",
   "execution_count": 154,
   "id": "e88396a4",
   "metadata": {},
   "outputs": [
    {
     "name": "stdout",
     "output_type": "stream",
     "text": [
      "[[18025    50    29    10     4]\n",
      " [  123   423     7     1     2]\n",
      " [   50     2  1379    12     5]\n",
      " [   20     1    17   123     1]\n",
      " [   18     0     6     0  1584]]\n",
      "accuracy: 0.9836469943358305\n",
      "precision: 0.9342005383067878\n",
      "recall: 0.8904680604880933\n",
      "f1: 0.9109037050332607\n"
     ]
    }
   ],
   "source": [
    "average_metric = 'macro'\n",
    "print(confusion_matrix(y_true=true, y_pred=pred))\n",
    "print(f\"accuracy: {accuracy_score(true, pred)}\")\n",
    "print(f\"precision: {precision_score(true, pred, average=average_metric)}\")\n",
    "print(f\"recall: {recall_score(true, pred, average=average_metric)}\")\n",
    "print(f\"f1: {f1_score(true, pred, average=average_metric)}\")"
   ]
  },
  {
   "cell_type": "markdown",
   "id": "45b7616c",
   "metadata": {},
   "source": [
    "## Visualization"
   ]
  },
  {
   "cell_type": "code",
   "execution_count": 42,
   "id": "27100eba",
   "metadata": {},
   "outputs": [],
   "source": [
    "train_df = pd.read_csv('../data/mitbih_train.csv', header=None)\n",
    "test_df = pd.read_csv('../data/mitbih_test.csv', header=None)"
   ]
  },
  {
   "cell_type": "code",
   "execution_count": 52,
   "id": "fad5f948",
   "metadata": {},
   "outputs": [
    {
     "name": "stdout",
     "output_type": "stream",
     "text": [
      "Num of Label 0: 72471\n",
      "Num of Label 1: 2223\n",
      "Num of Label 2: 5788\n",
      "Num of Label 3: 641\n",
      "Num of Label 4: 6431\n"
     ]
    }
   ],
   "source": [
    "label = [0,1,2,3,4]\n",
    "for i in label:\n",
    "    print(f'Num of Label {i}: {train_df[train_df[187] == i].shape[0]}')"
   ]
  },
  {
   "cell_type": "code",
   "execution_count": 217,
   "id": "cc73f7fd",
   "metadata": {},
   "outputs": [
    {
     "data": {
      "image/png": "[encoded data removed]",
      "text/plain": [
       "<Figure size 648x360 with 5 Axes>"
      ]
     },
     "metadata": {
      "needs_background": "light"
     },
     "output_type": "display_data"
    }
   ],
   "source": [
    "# Ref: https://arxiv.org/pdf/1805.00794.pdf\n",
    "\n",
    "label = ['N', 'S', 'V', 'F', 'Q']\n",
    "plt.figure(figsize=(9,5))\n",
    "\n",
    "for i, j in enumerate(label):\n",
    "    plt.subplot(2, 3, i+1)\n",
    "    plt.title(f'Class {j}')\n",
    "    plt.ylim(0, 1)\n",
    "    plt.plot(\n",
    "        np.arange(train_df[train_df[187] == i].iloc[0,:].shape[0]),\n",
    "        train_df[train_df[187] == i].iloc[0,:])\n",
    "    plt.xticks([0,100,200])\n",
    "    plt.yticks([0.0, 0.5, 1.0])\n",
    "\n",
    "plt.subplots_adjust(wspace=0.3, hspace=0.3)"
   ]
  },
  {
   "cell_type": "code",
   "execution_count": 194,
   "id": "3f06d89f",
   "metadata": {},
   "outputs": [],
   "source": [
    "all_df = pd.concat([train_df, test_df])\n",
    "labels = ['N', 'S', 'V', 'F', 'Q']\n",
    "counts = list(np.unique(all_df[187], return_counts=True)[1])"
   ]
  },
  {
   "cell_type": "code",
   "execution_count": 237,
   "id": "e72b860f",
   "metadata": {},
   "outputs": [
    {
     "data": {
      "text/plain": [
       "<BarContainer object of 5 artists>"
      ]
     },
     "execution_count": 237,
     "metadata": {},
     "output_type": "execute_result"
    },
    {
     "data": {
      "image/png": "[encoded data removed]",
      "text/plain": [
       "<Figure size 432x288 with 1 Axes>"
      ]
     },
     "metadata": {
      "needs_background": "light"
     },
     "output_type": "display_data"
    }
   ],
   "source": [
    "plt.rc('axes', labelsize=13)\n",
    "plt.xlabel('Heartbeat Class')\n",
    "plt.ylabel('Number of data points')\n",
    "plt.bar(labels, counts)"
   ]
  }
 ],
 "metadata": {
  "kernelspec": {
   "display_name": "Python 3",
   "language": "python",
   "name": "python3"
  },
  "language_info": {
   "codemirror_mode": {
    "name": "ipython",
    "version": 3
   },
   "file_extension": ".py",
   "mimetype": "text/x-python",
   "name": "python",
   "nbconvert_exporter": "python",
   "pygments_lexer": "ipython3",
   "version": "3.8.8"
  },
  "latex_envs": {
   "LaTeX_envs_menu_present": true,
   "autoclose": false,
   "autocomplete": true,
   "bibliofile": "biblio.bib",
   "cite_by": "apalike",
   "current_citInitial": 1,
   "eqLabelWithNumbers": true,
   "eqNumInitial": 1,
   "hotkeys": {
    "equation": "Ctrl-E",
    "itemize": "Ctrl-I"
   },
   "labels_anchors": false,
   "latex_user_defs": false,
   "report_style_numbering": false,
   "user_envs_cfg": false
  },
  "papermill": {
   "default_parameters": {},
   "duration": 190.757166,
   "end_time": "2022-02-21T13:19:03.910959",
   "environment_variables": {},
   "exception": null,
   "input_path": "__notebook__.ipynb",
   "output_path": "__notebook__.ipynb",
   "parameters": {},
   "start_time": "2022-02-21T13:15:53.153793",
   "version": "2.3.3"
  },
  "toc": {
   "base_numbering": 1,
   "nav_menu": {},
   "number_sections": false,
   "sideBar": true,
   "skip_h1_title": false,
   "title_cell": "Table of Contents",
   "title_sidebar": "Contents",
   "toc_cell": false,
   "toc_position": {
    "height": "calc(100% - 180px)",
    "left": "10px",
    "top": "150px",
    "width": "230.4px"
   },
   "toc_section_display": true,
   "toc_window_display": true
  }
 },
 "nbformat": 4,
 "nbformat_minor": 5
}
